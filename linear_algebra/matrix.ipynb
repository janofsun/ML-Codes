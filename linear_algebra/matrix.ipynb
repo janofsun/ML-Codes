{
 "cells": [
  {
   "attachments": {},
   "cell_type": "markdown",
   "metadata": {},
   "source": [
    "##### Transformation Matrix from Basis B to C\n",
    "\n",
    "Given basis vectors in two different bases B and C for R^3, write a Python function to compute the transformation matrix P from basis B to C.\n",
    "\n",
    "Example:\n",
    "        \n",
    "        B = [[1, 0, 0], \n",
    "             [0, 1, 0], \n",
    "             [0, 0, 1]]\n",
    "        \n",
    "        C = [[1, 2.3, 3], \n",
    "             [4.4, 25, 6], \n",
    "             [7.4, 8, 9]]\n",
    "        \n",
    "        output: [[-0.6772, -0.0126, 0.2342],\n",
    "                [-0.0184, 0.0505, -0.0275],\n",
    "                [0.5732, -0.0345, -0.0569]]"
   ]
  },
  {
   "attachments": {},
   "cell_type": "markdown",
   "metadata": {},
   "source": [
    "To transform from basis  $B$  to basis  $C$ , we need to express the vectors of basis  B  in terms of the coordinates in basis  $C$ . This involves representing each vector of  $B$  in the basis  $C$ .\n",
    "\n",
    "If we have a transformation matrix  $P$ , its columns are the coordinates of the vectors of  $B$  in terms of the basis  $C$ , and can be represented as:\n",
    "\n",
    "\n",
    "$P = \\left[ [b_1]_C \\quad [b_2]_C \\quad [b_3]_C \\right]$\n",
    "\n",
    "where $[b_1]_C$ represents the coordinates of basis vector  $b_1$  in basis  $C$ , and so on.\n",
    "\n",
    "Why is  $P$  equal to  $C^{-1} B$  and not  $B^{-1} C$ ?\n",
    "\n",
    "\t•\tTransformation matrix from basis  B  to the standard basis: If you know the coordinates relative to basis  B , and you want to convert them to the standard basis, you need to multiply by the matrix  B , where the columns are the vectors of basis  B :\n",
    "\n",
    "$$\n",
    "v_{\\text{standard}} = B v_B\n",
    "$$\n",
    "\n",
    "\t•\tTransformation matrix from basis  C  to the standard basis: Similarly, for basis  C , to transform from the standard basis to basis  C , you need to multiply by  C^{-1} :\n",
    "\n",
    "$$\n",
    "v_C = C^{-1} v_{\\text{standard}}\n",
    "$$\n",
    "\n",
    "\t•\tTransformation from basis  B  to basis  C : To transform from basis  B  to basis  C , you first need to convert from basis  B  to the standard basis, and then from the standard basis to basis  C . Thus:\n",
    "\n",
    "$$\n",
    "v_C = C^{-1} v_{\\text{standard}} = C^{-1} B v_B\n",
    "$$"
   ]
  },
  {
   "cell_type": "code",
   "execution_count": null,
   "metadata": {},
   "outputs": [],
   "source": [
    "import numpy as np\n",
    "def transform_basis(B, C):\n",
    "    C = np.array(C)\n",
    "    B = np.array(B)\n",
    "    C_inv = np.linalg.inv(C)\n",
    "    P = np.dot(C_inv, B)\n",
    "    return P.tolist()"
   ]
  },
  {
   "attachments": {},
   "cell_type": "markdown",
   "metadata": {},
   "source": [
    "##### Matrix Transformation\n",
    "\n",
    "Example:\n",
    "        \n",
    "        input: A = [[1, 2], [3, 4]], T = [[2, 0], [0, 2]], S = [[1, 1], [0, 1]]\n",
    "        \n",
    "        output: [[0.5,1.5],[1.5,3.5]]\n",
    "        \n",
    "        reasoning: The matrices T and S are used to transform matrix A by computing $T^{-1}AS$.\n"
   ]
  },
  {
   "cell_type": "code",
   "execution_count": null,
   "metadata": {},
   "outputs": [],
   "source": [
    "import numpy as np\n",
    "\n",
    "def transform_matrix(A: list[list[int|float]], T: list[list[int|float]], S: list[list[int|float]]) -> list[list[int|float]]:\n",
    "    # Convert to numpy arrays for easier manipulation\n",
    "    A = np.array(A)\n",
    "    T = np.array(T)\n",
    "    S = np.array(S)\n",
    "    \n",
    "    # Check if the matrices T and S are invertible\n",
    "    if np.linalg.det(T) == 0 or np.linalg.det(S) == 0:\n",
    "        raise ValueError(\"The matrices T and/or S are not invertible.\")\n",
    "    \n",
    "    # Compute the inverses of T and S\n",
    "    T_inv = np.linalg.inv(T)\n",
    "    \n",
    "    # Perform the matrix transformation\n",
    "    transformed_matrix = T_inv.dot(A).dot(S)\n",
    "    \n",
    "    return transformed_matrix.tolist()"
   ]
  },
  {
   "attachments": {},
   "cell_type": "markdown",
   "metadata": {},
   "source": [
    "##### Calculate 2x2 Matrix Inverse\n",
    "\n",
    "Example:\n",
    "        \n",
    "        input: matrix = [[4, 7], [2, 6]]\n",
    "        \n",
    "        output: [[0.6, -0.7], [-0.2, 0.4]]\n",
    "        \n",
    "        reasoning: The inverse of a 2x2 matrix [a, b], [c, d] is given by (1/(ad-bc)) * [d, -b], [-c, a], provided ad-bc is not zero."
   ]
  },
  {
   "cell_type": "code",
   "execution_count": null,
   "metadata": {},
   "outputs": [],
   "source": [
    "def inverse_2x2(matrix: list[list[float]]) -> list[list[float]]:\n",
    "    a, b, c, d = matrix[0][0], matrix[0][1], matrix[1][0], matrix[1][1]\n",
    "    determinant = a * d - b * c\n",
    "    if determinant == 0:\n",
    "        return None\n",
    "    inverse = [[d/determinant, -b/determinant], [-c/determinant, a/determinant]]\n",
    "    return inverse"
   ]
  },
  {
   "cell_type": "markdown",
   "metadata": {},
   "source": []
  }
 ],
 "metadata": {
  "kernelspec": {
   "display_name": "hw11785",
   "language": "python",
   "name": "python3"
  },
  "language_info": {
   "name": "python",
   "version": "3.8.3"
  },
  "orig_nbformat": 4
 },
 "nbformat": 4,
 "nbformat_minor": 2
}
