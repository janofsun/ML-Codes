{
 "cells": [
  {
   "attachments": {},
   "cell_type": "markdown",
   "metadata": {},
   "source": [
    "### Lasso and Ridge Loss\n",
    "\n",
    "For linear regression, assuming the loss function is Mean Squared Error (MSE), then:\n",
    "\n",
    "- The loss function for **Ridge Regression** is:\n",
    "  $[\n",
    "  J(\\beta) = \\sum_{i=1}^{m} \\left( y^{(i)} - \\sum_{j=1}^{n} \\beta_j x_j^{(i)} \\right)^2 + \\alpha \\sum_{j=1}^{n} \\beta_j^2\n",
    "  ]$\n",
    "\n",
    "- The loss function for **Lasso Regression** is:\n",
    "  $[\n",
    "  J(\\beta) = \\sum_{i=1}^{m} \\left( y^{(i)} - \\sum_{j=1}^{n} \\beta_j x_j^{(i)} \\right)^2 + \\alpha \\sum_{j=1}^{n} |\\beta_j|\n",
    "  ]$\n",
    "\n",
    "#### Use Cases\n",
    "\n",
    "- **Ridge Regression**: Use Ridge regression when you believe all features are useful for the model and you want to retain all features while preventing overfitting.\n",
    "\n",
    "- **Lasso Regression**: Use Lasso regression when you suspect that only a subset of features is important and you want to perform automatic feature selection.\n",
    "\n"
   ]
  },
  {
   "cell_type": "code",
   "execution_count": 6,
   "metadata": {},
   "outputs": [
    {
     "name": "stdout",
     "output_type": "stream",
     "text": [
      "2.204\n"
     ]
    }
   ],
   "source": [
    "import numpy as np\n",
    "\n",
    "def ridge_loss(X: np.ndarray, w: np.ndarray, y_true: np.ndarray, alpha: float) -> float:\n",
    "\tw_trans = w.reshape(-1, 1) # n 1\n",
    "\ty_true_trans = y_true.reshape(-1, 1) # m 1\n",
    "\tloss = np.mean((y_true_trans - X.dot(w_trans))**2) + alpha * sum(w**2)\n",
    "\treturn loss\n",
    "\n",
    "\n",
    "X = np.array([[1, 1], [2, 1], [3, 1], [4, 1]])\n",
    "w = np.array([0.2, 2])\n",
    "y_true = np.array([2, 3, 4, 5])\n",
    "alpha = 0.1\n",
    "print(ridge_loss(X, w, y_true, alpha))\n",
    "# Expected Output: 2.204\n"
   ]
  }
 ],
 "metadata": {
  "kernelspec": {
   "display_name": "notesAI",
   "language": "python",
   "name": "python3"
  },
  "language_info": {
   "codemirror_mode": {
    "name": "ipython",
    "version": 3
   },
   "file_extension": ".py",
   "mimetype": "text/x-python",
   "name": "python",
   "nbconvert_exporter": "python",
   "pygments_lexer": "ipython3",
   "version": "3.8.3"
  },
  "orig_nbformat": 4
 },
 "nbformat": 4,
 "nbformat_minor": 2
}
