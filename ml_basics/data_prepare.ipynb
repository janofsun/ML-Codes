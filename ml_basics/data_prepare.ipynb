{
 "cells": [
  {
   "attachments": {},
   "cell_type": "markdown",
   "metadata": {},
   "source": [
    "#### Random Shuffle of Dataset\n",
    "Write a Python function to perform a random shuffle of the samples in two numpy arrays, X and y, while maintaining the corresponding order between them. The function should have an optional seed parameter for reproducibility."
   ]
  },
  {
   "cell_type": "code",
   "execution_count": null,
   "metadata": {},
   "outputs": [],
   "source": [
    "import numpy as np\n",
    "\n",
    "def shuffle_data(X, y, seed=None):\n",
    "    if seed:\n",
    "        np.random.seed(seed)\n",
    "    rtn_idx = np.arange(len(X))\n",
    "    np.random.shuffle(rtn_idx)\n",
    "    return X[rtn_idx], y[rtn_idx]"
   ]
  },
  {
   "attachments": {},
   "cell_type": "markdown",
   "metadata": {},
   "source": [
    "#### Divide Dataset Based on Feature Threshold\n",
    "Write a Python function to divide a dataset based on whether the value of a specified feature is greater than or equal to a given threshold. The function should return two subsets of the dataset: one with samples that meet the condition and another with samples that do not."
   ]
  },
  {
   "cell_type": "code",
   "execution_count": 5,
   "metadata": {},
   "outputs": [
    {
     "name": "stdout",
     "output_type": "stream",
     "text": [
      "[array([[ 5,  6],\n",
      "       [ 7,  8],\n",
      "       [ 9, 10]]), array([[1, 2],\n",
      "       [3, 4]])]\n"
     ]
    }
   ],
   "source": [
    "import numpy as np\n",
    "\n",
    "def divide_on_feature(X, feature_i, threshold):\n",
    "    split_func = None\n",
    "    if isinstance(threshold, int) or isinstance(threshold, float):\n",
    "        split_func = lambda sample: sample[feature_i]>=threshold\n",
    "    else: # categorical features\n",
    "        split_func = lambda sample: sample[feature_i]==threshold\n",
    "    \n",
    "    X1 = np.array([sample for sample in X if split_func(sample)])\n",
    "    X2 = np.array([sample for sample in X if not split_func(sample)])\n",
    "    return [X1, X2]\n",
    "    \n",
    "\n",
    "X = np.array([[1, 2], \n",
    "                [3, 4], \n",
    "                [5, 6], \n",
    "                [7, 8], \n",
    "                [9, 10]])\n",
    "feature_i = 0\n",
    "threshold = 5\n",
    "print(divide_on_feature(X, feature_i, threshold))\n",
    "# output: [array([[ 5,  6],\n",
    "#                 [ 7,  8],\n",
    "#                 [ 9, 10]]), \n",
    "#             array([[1, 2],\n",
    "#                 [3, 4]])]"
   ]
  },
  {
   "attachments": {},
   "cell_type": "markdown",
   "metadata": {},
   "source": [
    "#### Generate Polynomial Features\n",
    "Write a Python function to generate polynomial features for a given dataset. The function should take in a 2D numpy array X and an integer degree, and return a new 2D numpy array with polynomial features up to the specified degree."
   ]
  },
  {
   "cell_type": "code",
   "execution_count": null,
   "metadata": {},
   "outputs": [],
   "source": []
  }
 ],
 "metadata": {
  "kernelspec": {
   "display_name": "hw11785",
   "language": "python",
   "name": "python3"
  },
  "language_info": {
   "codemirror_mode": {
    "name": "ipython",
    "version": 3
   },
   "file_extension": ".py",
   "mimetype": "text/x-python",
   "name": "python",
   "nbconvert_exporter": "python",
   "pygments_lexer": "ipython3",
   "version": "3.8.3"
  },
  "orig_nbformat": 4
 },
 "nbformat": 4,
 "nbformat_minor": 2
}
