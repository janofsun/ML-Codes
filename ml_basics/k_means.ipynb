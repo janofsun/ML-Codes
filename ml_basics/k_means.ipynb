{
 "cells": [
  {
   "cell_type": "markdown",
   "metadata": {},
   "source": [
    "#### K-Means\n",
    "\n",
    "1. Initialization: Randomly select K data points as the initial centroids.\n",
    "2. Assignment: Assign each data point to the nearest centroid based on the distance (usually Euclidean distance).\n",
    "3. Update: Compute the new centroids as the mean of all data points assigned to each cluster.\n",
    "4. Repeat: Repeat steps 2 and 3 until the centroids no longer change or the change is below a certain threshold.\n",
    "\n",
    "**Considerations**\n",
    "- K-means can converge to different solutions depending on the initial centroids. This is why multiple random initializations (restarts) are often used to ensure a good solution.\n",
    "- K-means works well when clusters are spherical and equally distributed, but it may not perform well when the clusters have irregular shapes."
   ]
  },
  {
   "cell_type": "code",
   "execution_count": 12,
   "metadata": {},
   "outputs": [
    {
     "name": "stdout",
     "output_type": "stream",
     "text": [
      "Final Centroids:\n",
      " [[ 0.43883891  0.7368613 ]\n",
      " [ 0.60522196  0.25933135]\n",
      " [-1.86867052 -1.81125198]]\n",
      "Cluster Assignments:\n",
      " [0 0 2 0 0 0 1 2 0 1 1 1 0 0 1 1 0 0 1 1 0 0 0 0 1 0 0 0 2 2 1 1 0 0 0 1 0\n",
      " 0 1 1 0 1 1 0 1 0 0 1 1 2 0 0 1 0 2 1 0 0 1 1 0 1 1 0 0 1 2 1 0 0 1 1 2 1\n",
      " 2 1 0 1 0 0 0 0 0 1 0 1 1 1 1 1 1 0 0 1 1 0 0 1 0 0]\n"
     ]
    }
   ],
   "source": [
    "import numpy as np\n",
    "\n",
    "def initialize_centroids(dataset, k): \n",
    "    clusters_idx = np.random.choice(dataset.shape[0], k)\n",
    "    return list(dataset[clusters_idx])\n",
    "\n",
    "def calculate_dist(dataset, centroids):\n",
    "    dist = np.zeros((dataset.shape[0], len(centroids)))\n",
    "    for i,cen in enumerate(centroids):\n",
    "        dist[:,i] = np.sqrt(np.sum((dataset-cen)**2, axis=1))\n",
    "    return dist\n",
    "\n",
    "def assign_clusters(distance):\n",
    "    return np.argmin(distance, axis=1)\n",
    "\n",
    "def update_centroids(dataset, clusters, k):\n",
    "    \"\"\" Update the centroids to be the mean of each cluster \"\"\"\n",
    "    new_centroids = np.zeros((k,dataset.shape[1]))\n",
    "    for i in range(k):\n",
    "        points_in_clusterk = dataset[clusters==i]\n",
    "        if len(points_in_clusterk):\n",
    "            new_centroids[i] = np.mean(points_in_clusterk-clusters[i], axis=0)\n",
    "    return new_centroids\n",
    "\n",
    "def kmeans(dataset, k, max_iters=100, tol=1e-4):\n",
    "    centroids = initialize_centroids(dataset, k)\n",
    "    for _ in range(max_iters):\n",
    "        distances = calculate_dist(dataset, centroids)\n",
    "        clusters = assign_clusters(distances)\n",
    "        prev_centroids = centroids\n",
    "        centroids = update_centroids(dataset, clusters, k)\n",
    "        # A small threshold to determine convergence \n",
    "        # (the algorithm stops when the change in centroids is smaller than tol).\n",
    "        if  np.linalg.norm(prev_centroids-centroids)< tol:\n",
    "            break\n",
    "\n",
    "    return centroids, clusters\n",
    "\n",
    "if __name__==\"__main__\":\n",
    "    # Generate random data\n",
    "    np.random.seed(42)\n",
    "    X = np.random.rand(100, 2)\n",
    "    \n",
    "    # Perform K-means clustering with 3 clusters\n",
    "    k = 3\n",
    "    centroids, clusters = kmeans(X, k)\n",
    "\n",
    "\n",
    "print(\"Final Centroids:\\n\", centroids)\n",
    "print(\"Cluster Assignments:\\n\", clusters)"
   ]
  }
 ],
 "metadata": {
  "kernelspec": {
   "display_name": "retinal_env",
   "language": "python",
   "name": "python3"
  },
  "language_info": {
   "codemirror_mode": {
    "name": "ipython",
    "version": 3
   },
   "file_extension": ".py",
   "mimetype": "text/x-python",
   "name": "python",
   "nbconvert_exporter": "python",
   "pygments_lexer": "ipython3",
   "version": "3.10.13"
  }
 },
 "nbformat": 4,
 "nbformat_minor": 2
}
