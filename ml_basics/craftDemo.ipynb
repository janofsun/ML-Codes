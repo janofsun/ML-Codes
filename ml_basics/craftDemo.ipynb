{
 "cells": [
  {
   "cell_type": "markdown",
   "metadata": {},
   "source": [
    "#### CraftDemo from Reddit\n",
    "- Classification task\n",
    "    - https://www.1point3acres.com/bbs/thread-1083555-1-1.html\n",
    "- 数据类似：\n",
    "    - there're 3 categories A, B, C; each row represent a user; 一共有几千行，数据是balance的，没有missing\n",
    "        - col1 = time watching A\n",
    "        - col2 = time watching B\n",
    "        - col3 = time watching C\n",
    "        - col4 = a category presented (A, B, or C)\n",
    "        - col5 = 1 if user clicked category presented in 4 else 0"
   ]
  },
  {
   "cell_type": "code",
   "execution_count": 13,
   "metadata": {},
   "outputs": [
    {
     "data": {
      "text/html": [
       "<div>\n",
       "<style scoped>\n",
       "    .dataframe tbody tr th:only-of-type {\n",
       "        vertical-align: middle;\n",
       "    }\n",
       "\n",
       "    .dataframe tbody tr th {\n",
       "        vertical-align: top;\n",
       "    }\n",
       "\n",
       "    .dataframe thead th {\n",
       "        text-align: right;\n",
       "    }\n",
       "</style>\n",
       "<table border=\"1\" class=\"dataframe\">\n",
       "  <thead>\n",
       "    <tr style=\"text-align: right;\">\n",
       "      <th></th>\n",
       "      <th>timeA</th>\n",
       "      <th>timeB</th>\n",
       "      <th>timeC</th>\n",
       "      <th>clicked</th>\n",
       "      <th>category_A</th>\n",
       "      <th>category_B</th>\n",
       "      <th>category_C</th>\n",
       "    </tr>\n",
       "  </thead>\n",
       "  <tbody>\n",
       "    <tr>\n",
       "      <th>0</th>\n",
       "      <td>5859</td>\n",
       "      <td>3268</td>\n",
       "      <td>9796</td>\n",
       "      <td>1</td>\n",
       "      <td>0</td>\n",
       "      <td>0</td>\n",
       "      <td>1</td>\n",
       "    </tr>\n",
       "    <tr>\n",
       "      <th>1</th>\n",
       "      <td>1251</td>\n",
       "      <td>5041</td>\n",
       "      <td>6103</td>\n",
       "      <td>1</td>\n",
       "      <td>0</td>\n",
       "      <td>0</td>\n",
       "      <td>1</td>\n",
       "    </tr>\n",
       "    <tr>\n",
       "      <th>2</th>\n",
       "      <td>1213</td>\n",
       "      <td>1970</td>\n",
       "      <td>7115</td>\n",
       "      <td>1</td>\n",
       "      <td>1</td>\n",
       "      <td>0</td>\n",
       "      <td>0</td>\n",
       "    </tr>\n",
       "    <tr>\n",
       "      <th>3</th>\n",
       "      <td>6747</td>\n",
       "      <td>3337</td>\n",
       "      <td>207</td>\n",
       "      <td>1</td>\n",
       "      <td>1</td>\n",
       "      <td>0</td>\n",
       "      <td>0</td>\n",
       "    </tr>\n",
       "    <tr>\n",
       "      <th>4</th>\n",
       "      <td>4408</td>\n",
       "      <td>4277</td>\n",
       "      <td>8573</td>\n",
       "      <td>1</td>\n",
       "      <td>0</td>\n",
       "      <td>0</td>\n",
       "      <td>1</td>\n",
       "    </tr>\n",
       "  </tbody>\n",
       "</table>\n",
       "</div>"
      ],
      "text/plain": [
       "   timeA  timeB  timeC  clicked  category_A  category_B  category_C\n",
       "0   5859   3268   9796        1           0           0           1\n",
       "1   1251   5041   6103        1           0           0           1\n",
       "2   1213   1970   7115        1           1           0           0\n",
       "3   6747   3337    207        1           1           0           0\n",
       "4   4408   4277   8573        1           0           0           1"
      ]
     },
     "execution_count": 13,
     "metadata": {},
     "output_type": "execute_result"
    }
   ],
   "source": [
    "# Step1: Try to generate your own dataset based on the above requirements\n",
    "import pandas as pd\n",
    "import numpy as np\n",
    "\n",
    "samples = 5000\n",
    "categories = ['A', 'B', 'C']\n",
    "click_prob = {\n",
    "    'A':[0.8, 0.1, 0.1],\n",
    "    'B':[0.1,0.8,0.1],\n",
    "    'C':[0.1,0.1,0.8]\n",
    "}\n",
    "time_A = np.random.randint(0,10000, size=samples)\n",
    "time_B = np.random.randint(0,10000, size=samples)\n",
    "time_C = np.random.randint(0,10000, size=samples)\n",
    "\n",
    "presented_category = np.random.choice(categories, size=samples)\n",
    "\n",
    "clicks = []\n",
    "for i in range(samples):\n",
    "    cat = presented_category[i] # 'A' 'B' 'C'\n",
    "    prob_i = click_prob[cat] # [0.8, 0.1, 0.1]\n",
    "    clicks.append(np.random.choice([0,1], p=[1-prob_i[categories.index(cat)], prob_i[categories.index(cat)]]))\n",
    "\n",
    "df = pd.DataFrame({\n",
    "    'timeA': time_A,\n",
    "    'timeB': time_B,\n",
    "    'timeC': time_C,\n",
    "    'category': presented_category,\n",
    "    'clicked': clicks\n",
    "})\n",
    "\n",
    "df_encoded = pd.get_dummies(df, columns=['category'])\n",
    "df_encoded.head()"
   ]
  },
  {
   "cell_type": "code",
   "execution_count": 14,
   "metadata": {},
   "outputs": [
    {
     "name": "stdout",
     "output_type": "stream",
     "text": [
      "Baseline Acc: 0.807\n"
     ]
    }
   ],
   "source": [
    "# Step2: My first insuition is to build a Logistic Regression model as our baseline\n",
    "from sklearn.model_selection import train_test_split\n",
    "from sklearn.linear_model import LogisticRegression\n",
    "from sklearn.metrics import accuracy_score\n",
    "\n",
    "X, Y = df_encoded.drop(columns=['clicked']), df_encoded['clicked']\n",
    "X_train, X_test, y_train, y_test = train_test_split(X, Y, test_size=0.2, random_state=42)\n",
    "log_reg = LogisticRegression(max_iter=150)\n",
    "model = log_reg.fit(X_train, y_train)\n",
    "y_pred = model.predict(X_test)\n",
    "score = accuracy_score(y_test, y_pred)\n",
    "print(\"Baseline Acc: {}\".format(score))\n"
   ]
  },
  {
   "cell_type": "code",
   "execution_count": 29,
   "metadata": {},
   "outputs": [
    {
     "name": "stdout",
     "output_type": "stream",
     "text": [
      "Best Parameters: {'activation': 'relu', 'alpha': 0.0001, 'hidden_layer_sizes': (256, 128, 64), 'learning_rate_init': 0.01}\n"
     ]
    }
   ],
   "source": [
    "# Step3: MLP Classifier\n",
    "from sklearn.neural_network import MLPClassifier\n",
    "from sklearn.model_selection import GridSearchCV\n",
    "\n",
    "param_grid = {\n",
    "    'hidden_layer_sizes': [(128, 64), (256, 128, 64)],\n",
    "    'activation': ['relu', 'tanh', 'logistic'],\n",
    "    'learning_rate_init': [0.001, 0.01],\n",
    "    'alpha': [0.0001, 0.001],\n",
    "}\n",
    "\n",
    "mlp = MLPClassifier(max_iter=500, random_state=42, early_stopping=True)\n",
    "# mlp.fit(X_train, y_train)\n",
    "# mlp_predict = mlp.predict(X_test)\n",
    "# mlp_score = accuracy_score(y_test, mlp_predict)\n",
    "# print(\"MLP Acc: {}\".format(mlp_score))\n",
    "\n",
    "grid_search = GridSearchCV(mlp, param_grid, cv=3, scoring='accuracy')\n",
    "grid_search.fit(X_train, y_train)\n",
    "best_mlp = grid_search.best_estimator_\n",
    "y_pred_test = best_mlp.predict(X_test)\n",
    "test_accuracy = accuracy_score(y_test, y_pred_test)\n",
    "print(f\"Test Accuracy with Best MLP: {test_accuracy:.4f}\")\n",
    "print(\"Best Parameters:\", grid_search.best_params_)"
   ]
  },
  {
   "cell_type": "code",
   "execution_count": 31,
   "metadata": {},
   "outputs": [
    {
     "name": "stdout",
     "output_type": "stream",
     "text": [
      "Classification Report:\n",
      "              precision    recall  f1-score   support\n",
      "\n",
      "           0       0.00      0.00      0.00       193\n",
      "           1       0.81      1.00      0.89       807\n",
      "\n",
      "    accuracy                           0.81      1000\n",
      "   macro avg       0.40      0.50      0.45      1000\n",
      "weighted avg       0.65      0.81      0.72      1000\n",
      "\n",
      "Confusion Matrix:\n",
      "[[  0 193]\n",
      " [  0 807]]\n"
     ]
    },
    {
     "name": "stderr",
     "output_type": "stream",
     "text": [
      "c:\\Users\\JadeSun\\anaconda3\\envs\\retinal_env\\lib\\site-packages\\sklearn\\metrics\\_classification.py:1469: UndefinedMetricWarning: Precision and F-score are ill-defined and being set to 0.0 in labels with no predicted samples. Use `zero_division` parameter to control this behavior.\n",
      "  _warn_prf(average, modifier, msg_start, len(result))\n",
      "c:\\Users\\JadeSun\\anaconda3\\envs\\retinal_env\\lib\\site-packages\\sklearn\\metrics\\_classification.py:1469: UndefinedMetricWarning: Precision and F-score are ill-defined and being set to 0.0 in labels with no predicted samples. Use `zero_division` parameter to control this behavior.\n",
      "  _warn_prf(average, modifier, msg_start, len(result))\n",
      "c:\\Users\\JadeSun\\anaconda3\\envs\\retinal_env\\lib\\site-packages\\sklearn\\metrics\\_classification.py:1469: UndefinedMetricWarning: Precision and F-score are ill-defined and being set to 0.0 in labels with no predicted samples. Use `zero_division` parameter to control this behavior.\n",
      "  _warn_prf(average, modifier, msg_start, len(result))\n"
     ]
    }
   ],
   "source": [
    "from sklearn.metrics import classification_report, confusion_matrix\n",
    "\n",
    "# Print detailed classification metrics\n",
    "print(\"Classification Report:\")\n",
    "print(classification_report(y_test, y_pred_test))\n",
    "\n",
    "# Print confusion matrix\n",
    "print(\"Confusion Matrix:\")\n",
    "print(confusion_matrix(y_test, y_pred_test))"
   ]
  },
  {
   "cell_type": "markdown",
   "metadata": {},
   "source": []
  },
  {
   "cell_type": "code",
   "execution_count": null,
   "metadata": {},
   "outputs": [],
   "source": []
  },
  {
   "cell_type": "markdown",
   "metadata": {},
   "source": [
    "#### Decision Boundary"
   ]
  },
  {
   "cell_type": "code",
   "execution_count": 32,
   "metadata": {},
   "outputs": [
    {
     "data": {
      "image/png": "[encoded data removed]",
      "text/plain": [
       "<Figure size 400x300 with 1 Axes>"
      ]
     },
     "metadata": {},
     "output_type": "display_data"
    }
   ],
   "source": [
    "import numpy as np\n",
    "import matplotlib.pyplot as plt\n",
    "from sklearn import datasets\n",
    "from sklearn.linear_model import LogisticRegression\n",
    "\n",
    "# Using a well-known iris dataset\n",
    "iris = datasets.load_iris()\n",
    "X = iris.data[:, :2]  # Using only 2 features for visualization purposes\n",
    "Y = iris.target\n",
    "\n",
    "# Logistics Regression model\n",
    "model = LogisticRegression(solver='liblinear',C=1e5)\n",
    "model.fit(X, Y)\n",
    "\n",
    "x_min, x_max = X[:, 0].min() - .5, X[:, 0].max() + .5\n",
    "y_min, y_max = X[:, 1].min() - .5, X[:, 1].max() + .5\n",
    "h = .02  \n",
    "\n",
    "xx, yy = np.meshgrid(np.arange(x_min, x_max, h), np.arange(y_min, y_max, h))\n",
    "\n",
    "Z = model.predict(np.c_[xx.ravel(), yy.ravel()])\n",
    "Z = Z.reshape(xx.shape)\n",
    "\n",
    "plt.figure(1, figsize=(4, 3))\n",
    "plt.pcolormesh(xx, yy, Z, cmap=plt.cm.Paired)\n",
    "\n",
    "# Plot the training points\n",
    "plt.scatter(X[:, 0], X[:, 1], c=Y, edgecolors='k', cmap=plt.cm.Paired)\n",
    "plt.xlabel('Sepal length')\n",
    "plt.ylabel('Sepal width')\n",
    "\n",
    "plt.xlim(xx.min(), xx.max())\n",
    "plt.ylim(yy.min(), yy.max())\n",
    "plt.xticks(())\n",
    "plt.yticks(())\n",
    "\n",
    "plt.show()"
   ]
  }
 ],
 "metadata": {
  "kernelspec": {
   "display_name": "retinal_env",
   "language": "python",
   "name": "python3"
  },
  "language_info": {
   "codemirror_mode": {
    "name": "ipython",
    "version": 3
   },
   "file_extension": ".py",
   "mimetype": "text/x-python",
   "name": "python",
   "nbconvert_exporter": "python",
   "pygments_lexer": "ipython3",
   "version": "3.10.13"
  }
 },
 "nbformat": 4,
 "nbformat_minor": 2
}
